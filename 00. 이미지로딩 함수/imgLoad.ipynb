{
 "cells": [
  {
   "cell_type": "code",
   "execution_count": 4,
   "id": "c0c6524f-0ec4-4b34-b674-87624c2232ff",
   "metadata": {},
   "outputs": [],
   "source": [
    "import numpy as np\n",
    "import os\n",
    "import cv2\n",
    "from sklearn.model_selection import train_test_split"
   ]
  },
  {
   "cell_type": "code",
   "execution_count": 5,
   "id": "30725385-8c78-4c68-91c1-e23a045175f6",
   "metadata": {},
   "outputs": [],
   "source": [
    "import matplotlib.pyplot as plt"
   ]
  },
  {
   "cell_type": "code",
   "execution_count": 6,
   "id": "09189d3d-a6ae-4883-b4ae-af94c24d8bca",
   "metadata": {},
   "outputs": [],
   "source": [
    "def collectImg(basePath, inSize=256, splitRatio=0.2):\n",
    "    \"\"\"\n",
    "    설명: basePath 기준으로 하위 카테고리 폴더 내 이미지 수집 함수\n",
    "    basePath -> str : 기준 폴더 예시: \"/content/gdrive/MyDrive/Colab Notebooks/downimg\"\n",
    "    inSize -> int : 변경할 사이즈 예시: 200\n",
    "\n",
    "    \"\"\"\n",
    "\n",
    "    # 파라미터 타입변환\n",
    "    basePath = str(basePath)\n",
    "    inSize = int(inSize)\n",
    "    splitRatio = float(splitRatio)\n",
    "    \n",
    "    trainImg = []\n",
    "    trainLabel = []\n",
    "\n",
    "    # basePath = \"/content/gdrive/MyDrive/Colab Notebooks/downimg\"\n",
    "    totalFolderList = os.listdir( basePath )\n",
    "    # 한폴더만 지정해서 수집 (반복문으로 변경)\n",
    "    for folderIndex in range(0, len(totalFolderList)):\n",
    "        eachFolder = totalFolderList[folderIndex]\n",
    "        # 한폴더와 basepath 를 조인시켜서 이미지들이 있는 최종 폴더에 접근\n",
    "        eachFolderFullPath = os.path.join( basePath, eachFolder )\n",
    "        # print(eachFolderFullPath)\n",
    "        totalImageList = os.listdir( eachFolderFullPath )\n",
    "        # 한개의 이미지만 지정해서 저장 (반복문으로 변경)\n",
    "        for imageIndex in range(0, len(totalImageList)):\n",
    "            try:\n",
    "                eachImg = totalImageList[imageIndex]\n",
    "                eachImgFullPath = os.path.join(eachFolderFullPath, eachImg)\n",
    "                inImg = cv2.imread( eachImgFullPath, cv2.IMREAD_GRAYSCALE )\n",
    "                resizedImg = cv2.resize( inImg, (inSize, inSize) )\n",
    "                trainImg.append( resizedImg )\n",
    "                trainLabel.append( folderIndex )\n",
    "            except Exception as e:\n",
    "                print(eachImgFullPath)\n",
    "                print(e)\n",
    "    pass\n",
    "    trainX = np.array( trainImg )\n",
    "    trainY = np.array( trainLabel )\n",
    "    trainX, testX, trainY, testY = train_test_split( trainX, trainY, test_size=splitRatio, random_state=11)\n",
    "    return trainX, testX, trainY, testY"
   ]
  },
  {
   "cell_type": "code",
   "execution_count": 7,
   "id": "5b7418d7-e4e1-48a7-9adc-6e04a9b5290e",
   "metadata": {},
   "outputs": [],
   "source": [
    "imgPath = \"./category_imgs/downimg/\"\n",
    "imgSize = 200"
   ]
  },
  {
   "cell_type": "code",
   "execution_count": 8,
   "id": "eab2ef72-e359-4070-9cbb-4412262daa91",
   "metadata": {},
   "outputs": [
    {
     "name": "stdout",
     "output_type": "stream",
     "text": [
      "./category_imgs/downimg/cat\\2-1. 감정인식모델_코어모델.ipynb\n",
      "OpenCV(4.9.0) D:\\a\\opencv-python\\opencv-python\\opencv\\modules\\imgproc\\src\\resize.cpp:4152: error: (-215:Assertion failed) !ssize.empty() in function 'cv::resize'\n",
      "\n"
     ]
    }
   ],
   "source": [
    "trainX, testX, trainY, testY = collectImg( imgPath, imgSize )"
   ]
  },
  {
   "cell_type": "code",
   "execution_count": 9,
   "id": "2a6fe157-c24e-4520-857c-42d21bd76fdc",
   "metadata": {},
   "outputs": [
    {
     "name": "stdout",
     "output_type": "stream",
     "text": [
      "(23, 200, 200)\n",
      "(6, 200, 200)\n",
      "(23,)\n",
      "(6,)\n"
     ]
    }
   ],
   "source": [
    "print(trainX.shape)\n",
    "print(testX.shape)\n",
    "print(trainY.shape)\n",
    "print(testY.shape)"
   ]
  }
 ],
 "metadata": {
  "kernelspec": {
   "display_name": "Python 3 (ipykernel)",
   "language": "python",
   "name": "python3"
  },
  "language_info": {
   "codemirror_mode": {
    "name": "ipython",
    "version": 3
   },
   "file_extension": ".py",
   "mimetype": "text/x-python",
   "name": "python",
   "nbconvert_exporter": "python",
   "pygments_lexer": "ipython3",
   "version": "3.10.11"
  }
 },
 "nbformat": 4,
 "nbformat_minor": 5
}
