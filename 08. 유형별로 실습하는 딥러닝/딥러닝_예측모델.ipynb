{
  "nbformat": 4,
  "nbformat_minor": 0,
  "metadata": {
    "colab": {
      "provenance": []
    },
    "kernelspec": {
      "name": "python3",
      "display_name": "Python 3"
    },
    "language_info": {
      "name": "python"
    }
  },
  "cells": [
    {
      "cell_type": "code",
      "execution_count": 16,
      "metadata": {
        "id": "2ZpnhprmM3fP"
      },
      "outputs": [],
      "source": [
        "from tensorflow import keras\n",
        "from tensorflow.keras.models import load_model\n",
        "import pickle\n",
        "import pandas as pd"
      ]
    },
    {
      "cell_type": "markdown",
      "source": [
        "### 1. 재료 불러오기"
      ],
      "metadata": {
        "id": "zj7wj-lGlN_m"
      }
    },
    {
      "cell_type": "code",
      "source": [
        "loadedModel  = load_model(\"selloutcore.h5\")"
      ],
      "metadata": {
        "id": "TAQHj9TplNew"
      },
      "execution_count": 17,
      "outputs": []
    },
    {
      "cell_type": "code",
      "source": [
        "with open(\"prefunc.dump\", \"rb\") as fr:\n",
        "    preFunction = pickle.load(fr)"
      ],
      "metadata": {
        "id": "ePkrs27oVPP7"
      },
      "execution_count": 18,
      "outputs": []
    },
    {
      "cell_type": "markdown",
      "source": [
        "# 재훈련 (재훈련 아닌경우 바로 예측으로 점프)"
      ],
      "metadata": {
        "id": "-lnYM2vXk0si"
      }
    },
    {
      "cell_type": "code",
      "source": [
        "gitUrl = \"https://raw.githubusercontent.com/hyokwan/python-lecture/master/dataset/feature_regression_example.csv\""
      ],
      "metadata": {
        "id": "JdJdbIIsmNbM"
      },
      "execution_count": 19,
      "outputs": []
    },
    {
      "cell_type": "code",
      "source": [
        "additionalData = pd.read_csv(gitUrl)"
      ],
      "metadata": {
        "id": "BmOgt2jVmIp6"
      },
      "execution_count": 20,
      "outputs": []
    },
    {
      "cell_type": "markdown",
      "source": [
        "### 1.  타입 통합 및 특성 숫자컬럼 추가"
      ],
      "metadata": {
        "id": "hvg4qVHZphc9"
      }
    },
    {
      "cell_type": "code",
      "source": [
        "requiredColumns = [\"HOLIDAY\",\"PROMOTION\",\"HCLUS\",\"PRO_PERCENT\",\"QTY\"]"
      ],
      "metadata": {
        "id": "srtwo_5vmTrT"
      },
      "execution_count": 21,
      "outputs": []
    },
    {
      "cell_type": "code",
      "source": [
        "addDataTrainSet = additionalData.loc [ :, requiredColumns ]"
      ],
      "metadata": {
        "id": "nhUJL9OImRr4"
      },
      "execution_count": 22,
      "outputs": []
    },
    {
      "cell_type": "code",
      "source": [
        "preProcessingFunc = preFunction[1]\n",
        "ynLabelEncoder = preProcessingFunc[0]\n",
        "hclusScaler = preProcessingFunc[2]\n",
        "promoScaler = preProcessingFunc[3]"
      ],
      "metadata": {
        "id": "lKPS6SYMm0GC"
      },
      "execution_count": 23,
      "outputs": []
    },
    {
      "cell_type": "code",
      "source": [
        "preFunction[0]"
      ],
      "metadata": {
        "colab": {
          "base_uri": "https://localhost:8080/"
        },
        "id": "4IYZEBxSnzmg",
        "outputId": "acd1661f-23f9-4534-904a-b225035ffa4e"
      },
      "execution_count": 24,
      "outputs": [
        {
          "output_type": "execute_result",
          "data": {
            "text/plain": [
              "['LE_HOLY', 'LE_PROMO', 'SCALED_HCLUS', 'SCALED_PROPERCENT']"
            ]
          },
          "metadata": {},
          "execution_count": 24
        }
      ]
    },
    {
      "cell_type": "code",
      "source": [
        "addDataTrainSet[\"LE_HOLY\"] = ynLabelEncoder.fit_transform( addDataTrainSet.HOLIDAY )\n",
        "addDataTrainSet[\"LE_PROMO\"] = ynLabelEncoder.fit_transform( addDataTrainSet.PROMOTION )\n",
        "addDataTrainSet[\"SCALED_HCLUS\"] = hclusScaler.fit_transform( addDataTrainSet.loc[ :, [\"HCLUS\"]])\n",
        "addDataTrainSet[\"SCALED_PROPERCENT\"] = promoScaler.fit_transform( addDataTrainSet.loc[ :, [\"PRO_PERCENT\"]])"
      ],
      "metadata": {
        "id": "h2xfqXbdmzHD"
      },
      "execution_count": 25,
      "outputs": []
    },
    {
      "cell_type": "markdown",
      "source": [
        "### 2. 특성선정 및 데이터 분리"
      ],
      "metadata": {
        "id": "76wY8jnfpzCu"
      }
    },
    {
      "cell_type": "code",
      "source": [
        "features = preFunction[0]\n",
        "label = [\"QTY\"]"
      ],
      "metadata": {
        "id": "F0wnzwDvoWxb"
      },
      "execution_count": 26,
      "outputs": []
    },
    {
      "cell_type": "code",
      "source": [
        "trainDataFeatures = addDataTrainSet.loc[ :, features]\n",
        "trainDataLabel = addDataTrainSet.loc[ :, label]"
      ],
      "metadata": {
        "id": "Fu1yMiwzoUGk"
      },
      "execution_count": 27,
      "outputs": []
    },
    {
      "cell_type": "markdown",
      "source": [
        "### 3. 모델 정의"
      ],
      "metadata": {
        "id": "Hqj7DwyGp-c_"
      }
    },
    {
      "cell_type": "markdown",
      "source": [
        "### 4. 모델 컴파일"
      ],
      "metadata": {
        "id": "BpHKlg6Ep3ox"
      }
    },
    {
      "cell_type": "code",
      "source": [
        "# 모델 컴파일\n",
        "loadedModel.compile(loss=\"mean_squared_error\",\n",
        "                    optimizer=\"adam\",\n",
        "                    metrics= [\"mean_absolute_error\"])"
      ],
      "metadata": {
        "id": "7WaiPUH9lbUg"
      },
      "execution_count": 28,
      "outputs": []
    },
    {
      "cell_type": "markdown",
      "source": [
        "### 5. 모델 훈련"
      ],
      "metadata": {
        "id": "_fRTYObZp6iz"
      }
    },
    {
      "cell_type": "code",
      "source": [
        "loadedModel.fit(x=trainDataFeatures,\n",
        "                y=trainDataLabel,\n",
        "                batch_size=32,\n",
        "                epochs=50,\n",
        "                validation_split = 0.2)"
      ],
      "metadata": {
        "colab": {
          "base_uri": "https://localhost:8080/"
        },
        "id": "yFDxc95moqge",
        "outputId": "4ceeae46-1a5e-410b-ad7d-3ed56427a28e"
      },
      "execution_count": 29,
      "outputs": [
        {
          "output_type": "stream",
          "name": "stdout",
          "text": [
            "Epoch 1/50\n",
            "3/3 [==============================] - 1s 130ms/step - loss: 343412.5625 - mean_absolute_error: 415.9939 - val_loss: 358303.9062 - val_mean_absolute_error: 470.3341\n",
            "Epoch 2/50\n",
            "3/3 [==============================] - 0s 17ms/step - loss: 341157.2500 - mean_absolute_error: 416.4347 - val_loss: 354463.7500 - val_mean_absolute_error: 468.2234\n",
            "Epoch 3/50\n",
            "3/3 [==============================] - 0s 16ms/step - loss: 339967.0000 - mean_absolute_error: 416.5222 - val_loss: 350948.1875 - val_mean_absolute_error: 466.1362\n",
            "Epoch 4/50\n",
            "3/3 [==============================] - 0s 16ms/step - loss: 338885.5625 - mean_absolute_error: 417.0968 - val_loss: 348044.8438 - val_mean_absolute_error: 464.2645\n",
            "Epoch 5/50\n",
            "3/3 [==============================] - 0s 17ms/step - loss: 337984.3438 - mean_absolute_error: 418.1056 - val_loss: 345533.7812 - val_mean_absolute_error: 463.3278\n",
            "Epoch 6/50\n",
            "3/3 [==============================] - 0s 26ms/step - loss: 337028.2500 - mean_absolute_error: 418.1539 - val_loss: 343925.0938 - val_mean_absolute_error: 462.9902\n",
            "Epoch 7/50\n",
            "3/3 [==============================] - 0s 17ms/step - loss: 337111.8125 - mean_absolute_error: 419.2946 - val_loss: 342031.8125 - val_mean_absolute_error: 462.5287\n",
            "Epoch 8/50\n",
            "3/3 [==============================] - 0s 18ms/step - loss: 336528.3438 - mean_absolute_error: 419.7997 - val_loss: 341171.5312 - val_mean_absolute_error: 462.6597\n",
            "Epoch 9/50\n",
            "3/3 [==============================] - 0s 18ms/step - loss: 336121.0625 - mean_absolute_error: 420.1102 - val_loss: 340726.8125 - val_mean_absolute_error: 463.0015\n",
            "Epoch 10/50\n",
            "3/3 [==============================] - 0s 16ms/step - loss: 335675.5312 - mean_absolute_error: 419.9577 - val_loss: 341134.5000 - val_mean_absolute_error: 463.2329\n",
            "Epoch 11/50\n",
            "3/3 [==============================] - 0s 18ms/step - loss: 335449.6562 - mean_absolute_error: 419.7540 - val_loss: 341381.5312 - val_mean_absolute_error: 463.4709\n",
            "Epoch 12/50\n",
            "3/3 [==============================] - 0s 17ms/step - loss: 335220.9375 - mean_absolute_error: 419.7951 - val_loss: 341283.4688 - val_mean_absolute_error: 463.7427\n",
            "Epoch 13/50\n",
            "3/3 [==============================] - 0s 16ms/step - loss: 334954.8438 - mean_absolute_error: 419.6900 - val_loss: 341506.0625 - val_mean_absolute_error: 463.9980\n",
            "Epoch 14/50\n",
            "3/3 [==============================] - 0s 21ms/step - loss: 334762.0312 - mean_absolute_error: 419.6736 - val_loss: 341537.0000 - val_mean_absolute_error: 464.2668\n",
            "Epoch 15/50\n",
            "3/3 [==============================] - 0s 17ms/step - loss: 334622.3125 - mean_absolute_error: 419.5949 - val_loss: 341967.6875 - val_mean_absolute_error: 464.4529\n",
            "Epoch 16/50\n",
            "3/3 [==============================] - 0s 18ms/step - loss: 334458.2812 - mean_absolute_error: 419.6501 - val_loss: 341611.9062 - val_mean_absolute_error: 464.7624\n",
            "Epoch 17/50\n",
            "3/3 [==============================] - 0s 19ms/step - loss: 334103.7500 - mean_absolute_error: 419.6240 - val_loss: 341943.5312 - val_mean_absolute_error: 464.9846\n",
            "Epoch 18/50\n",
            "3/3 [==============================] - 0s 18ms/step - loss: 333859.0000 - mean_absolute_error: 419.6039 - val_loss: 341944.0000 - val_mean_absolute_error: 465.2552\n",
            "Epoch 19/50\n",
            "3/3 [==============================] - 0s 16ms/step - loss: 333638.0625 - mean_absolute_error: 419.6602 - val_loss: 341827.8438 - val_mean_absolute_error: 465.5513\n",
            "Epoch 20/50\n",
            "3/3 [==============================] - 0s 17ms/step - loss: 333456.6562 - mean_absolute_error: 419.8361 - val_loss: 341671.5625 - val_mean_absolute_error: 465.8660\n",
            "Epoch 21/50\n",
            "3/3 [==============================] - 0s 23ms/step - loss: 333258.4062 - mean_absolute_error: 419.9506 - val_loss: 341773.9688 - val_mean_absolute_error: 466.1337\n",
            "Epoch 22/50\n",
            "3/3 [==============================] - 0s 28ms/step - loss: 332973.0000 - mean_absolute_error: 420.0145 - val_loss: 341361.8438 - val_mean_absolute_error: 466.4789\n",
            "Epoch 23/50\n",
            "3/3 [==============================] - 0s 16ms/step - loss: 333001.6875 - mean_absolute_error: 420.4114 - val_loss: 340871.9688 - val_mean_absolute_error: 466.8716\n",
            "Epoch 24/50\n",
            "3/3 [==============================] - 0s 26ms/step - loss: 332739.3438 - mean_absolute_error: 420.8476 - val_loss: 340842.2812 - val_mean_absolute_error: 467.1845\n",
            "Epoch 25/50\n",
            "3/3 [==============================] - 0s 19ms/step - loss: 332475.2188 - mean_absolute_error: 420.9506 - val_loss: 340765.5938 - val_mean_absolute_error: 467.4702\n",
            "Epoch 26/50\n",
            "3/3 [==============================] - 0s 27ms/step - loss: 332309.3750 - mean_absolute_error: 420.9586 - val_loss: 341055.6562 - val_mean_absolute_error: 467.6904\n",
            "Epoch 27/50\n",
            "3/3 [==============================] - 0s 17ms/step - loss: 332214.6562 - mean_absolute_error: 421.0673 - val_loss: 340985.9062 - val_mean_absolute_error: 468.0101\n",
            "Epoch 28/50\n",
            "3/3 [==============================] - 0s 25ms/step - loss: 331920.8750 - mean_absolute_error: 421.0177 - val_loss: 341332.1562 - val_mean_absolute_error: 468.2220\n",
            "Epoch 29/50\n",
            "3/3 [==============================] - 0s 19ms/step - loss: 331823.7500 - mean_absolute_error: 420.9875 - val_loss: 341482.5625 - val_mean_absolute_error: 468.4934\n",
            "Epoch 30/50\n",
            "3/3 [==============================] - 0s 17ms/step - loss: 331550.1875 - mean_absolute_error: 420.9551 - val_loss: 341839.9062 - val_mean_absolute_error: 468.7169\n",
            "Epoch 31/50\n",
            "3/3 [==============================] - 0s 17ms/step - loss: 331499.6875 - mean_absolute_error: 420.8452 - val_loss: 342523.0625 - val_mean_absolute_error: 468.8688\n",
            "Epoch 32/50\n",
            "3/3 [==============================] - 0s 16ms/step - loss: 331514.9062 - mean_absolute_error: 420.7888 - val_loss: 342742.7812 - val_mean_absolute_error: 469.1305\n",
            "Epoch 33/50\n",
            "3/3 [==============================] - 0s 19ms/step - loss: 330969.7500 - mean_absolute_error: 420.2834 - val_loss: 343666.9062 - val_mean_absolute_error: 469.2286\n",
            "Epoch 34/50\n",
            "3/3 [==============================] - 0s 20ms/step - loss: 330789.4688 - mean_absolute_error: 419.7808 - val_loss: 344391.1562 - val_mean_absolute_error: 469.3632\n",
            "Epoch 35/50\n",
            "3/3 [==============================] - 0s 18ms/step - loss: 330668.1562 - mean_absolute_error: 419.3770 - val_loss: 345103.6875 - val_mean_absolute_error: 469.5025\n",
            "Epoch 36/50\n",
            "3/3 [==============================] - 0s 17ms/step - loss: 330435.1562 - mean_absolute_error: 418.9390 - val_loss: 345677.2500 - val_mean_absolute_error: 469.6518\n",
            "Epoch 37/50\n",
            "3/3 [==============================] - 0s 16ms/step - loss: 330443.1562 - mean_absolute_error: 418.8916 - val_loss: 345935.4375 - val_mean_absolute_error: 469.8841\n",
            "Epoch 38/50\n",
            "3/3 [==============================] - 0s 17ms/step - loss: 330208.5625 - mean_absolute_error: 418.7347 - val_loss: 346569.1250 - val_mean_absolute_error: 470.0507\n",
            "Epoch 39/50\n",
            "3/3 [==============================] - 0s 19ms/step - loss: 330010.6562 - mean_absolute_error: 418.3198 - val_loss: 347237.0625 - val_mean_absolute_error: 470.1958\n",
            "Epoch 40/50\n",
            "3/3 [==============================] - 0s 17ms/step - loss: 329888.3438 - mean_absolute_error: 417.9884 - val_loss: 347823.2500 - val_mean_absolute_error: 470.3524\n",
            "Epoch 41/50\n",
            "3/3 [==============================] - 0s 17ms/step - loss: 329844.0938 - mean_absolute_error: 417.7962 - val_loss: 348162.7500 - val_mean_absolute_error: 470.5269\n",
            "Epoch 42/50\n",
            "3/3 [==============================] - 0s 26ms/step - loss: 329644.0000 - mean_absolute_error: 417.7478 - val_loss: 348176.3438 - val_mean_absolute_error: 470.7912\n",
            "Epoch 43/50\n",
            "3/3 [==============================] - 0s 22ms/step - loss: 329596.5625 - mean_absolute_error: 417.9442 - val_loss: 348166.5312 - val_mean_absolute_error: 471.0668\n",
            "Epoch 44/50\n",
            "3/3 [==============================] - 0s 17ms/step - loss: 329295.4375 - mean_absolute_error: 417.7775 - val_loss: 348500.9062 - val_mean_absolute_error: 471.2534\n",
            "Epoch 45/50\n",
            "3/3 [==============================] - 0s 27ms/step - loss: 329173.9375 - mean_absolute_error: 417.7626 - val_loss: 348693.6562 - val_mean_absolute_error: 471.4884\n",
            "Epoch 46/50\n",
            "3/3 [==============================] - 0s 18ms/step - loss: 328999.4688 - mean_absolute_error: 417.6868 - val_loss: 348991.2500 - val_mean_absolute_error: 471.6989\n",
            "Epoch 47/50\n",
            "3/3 [==============================] - 0s 26ms/step - loss: 328980.2500 - mean_absolute_error: 417.7027 - val_loss: 349188.7500 - val_mean_absolute_error: 471.9319\n",
            "Epoch 48/50\n",
            "3/3 [==============================] - 0s 18ms/step - loss: 328740.7812 - mean_absolute_error: 417.5035 - val_loss: 349673.6250 - val_mean_absolute_error: 472.0833\n",
            "Epoch 49/50\n",
            "3/3 [==============================] - 0s 17ms/step - loss: 328599.5625 - mean_absolute_error: 417.3568 - val_loss: 349970.8750 - val_mean_absolute_error: 472.2572\n",
            "Epoch 50/50\n",
            "3/3 [==============================] - 0s 16ms/step - loss: 328636.5625 - mean_absolute_error: 417.2899 - val_loss: 350587.4375 - val_mean_absolute_error: 472.3972\n"
          ]
        },
        {
          "output_type": "execute_result",
          "data": {
            "text/plain": [
              "<keras.src.callbacks.History at 0x7a62d3302c20>"
            ]
          },
          "metadata": {},
          "execution_count": 29
        }
      ]
    },
    {
      "cell_type": "markdown",
      "source": [
        "# 예측"
      ],
      "metadata": {
        "id": "ksQJIljMl9rp"
      }
    },
    {
      "cell_type": "code",
      "source": [
        "preProcessingFunc = preFunction[1]\n",
        "ynLabelEncoder = preProcessingFunc[0]\n",
        "hclusScaler = preProcessingFunc[2]\n",
        "promoScaler = preProcessingFunc[3]"
      ],
      "metadata": {
        "id": "BKQtk_bCVr9E"
      },
      "execution_count": 30,
      "outputs": []
    },
    {
      "cell_type": "code",
      "source": [
        "import warnings"
      ],
      "metadata": {
        "id": "Ny6csoeFj37J"
      },
      "execution_count": 31,
      "outputs": []
    },
    {
      "cell_type": "code",
      "source": [
        "warnings.filterwarnings(action = \"ignore\")"
      ],
      "metadata": {
        "id": "hvZnJk_tj535"
      },
      "execution_count": 32,
      "outputs": []
    },
    {
      "cell_type": "code",
      "source": [
        "inputHoliday = \"N\"\n",
        "inputPromotion =\"N\"\n",
        "inputHclus = 4\n",
        "inputPromoPercent = 0.0\n",
        "inputHolidayModel = ynLabelEncoder.transform( [[inputHoliday]]) [0]\n",
        "inputPromotionModel = ynLabelEncoder.transform( [[inputPromotion]]) [0]\n",
        "inputHclusModel = hclusScaler.transform( [[inputHclus]] ) [0][0]\n",
        "inputProPercentModel = promoScaler.transform( [[inputPromoPercent]] ) [0][0]\n",
        "print(inputHolidayModel, inputPromotionModel, inputHclusModel, inputProPercentModel)"
      ],
      "metadata": {
        "colab": {
          "base_uri": "https://localhost:8080/"
        },
        "id": "PCupzaPtWA_r",
        "outputId": "223bdf08-b7eb-4eec-8ca7-28efe80ef10e"
      },
      "execution_count": 33,
      "outputs": [
        {
          "output_type": "stream",
          "name": "stdout",
          "text": [
            "0 0 1.0 0.0\n"
          ]
        }
      ]
    },
    {
      "cell_type": "code",
      "source": [
        "webData = pd.DataFrame( [[ inputHolidayModel ,inputPromotionModel,inputHclusModel, inputProPercentModel         ]  ]            )"
      ],
      "metadata": {
        "id": "WR8QnMVTXtA-"
      },
      "execution_count": 34,
      "outputs": []
    },
    {
      "cell_type": "code",
      "source": [
        "loadedModel.predict(  webData  )"
      ],
      "metadata": {
        "colab": {
          "base_uri": "https://localhost:8080/"
        },
        "id": "4hlZqEeWW_TZ",
        "outputId": "1a893862-c59e-4c70-cd68-5cf14904c93d"
      },
      "execution_count": 35,
      "outputs": [
        {
          "output_type": "stream",
          "name": "stdout",
          "text": [
            "1/1 [==============================] - 0s 70ms/step\n"
          ]
        },
        {
          "output_type": "execute_result",
          "data": {
            "text/plain": [
              "array([[298.77478]], dtype=float32)"
            ]
          },
          "metadata": {},
          "execution_count": 35
        }
      ]
    },
    {
      "cell_type": "code",
      "source": [],
      "metadata": {
        "id": "6nNa4dGlrHVk"
      },
      "execution_count": null,
      "outputs": []
    }
  ]
}