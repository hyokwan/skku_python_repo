{
  "nbformat": 4,
  "nbformat_minor": 0,
  "metadata": {
    "colab": {
      "provenance": []
    },
    "kernelspec": {
      "name": "python3",
      "display_name": "Python 3"
    },
    "language_info": {
      "name": "python"
    }
  },
  "cells": [
    {
      "cell_type": "code",
      "source": [
        "from google.colab import drive\n",
        "drive.mount(\"/content/gdrive\")\n",
        "%cd /content/gdrive/MyDrive/Colab Notebooks/code2024/Session08 - 유형별로 실습하는 딥러닝"
      ],
      "metadata": {
        "id": "N24WJp03-9is",
        "colab": {
          "base_uri": "https://localhost:8080/"
        },
        "outputId": "ad6a5588-c5f9-4cbd-dba7-cb0077086ae7"
      },
      "execution_count": 1,
      "outputs": [
        {
          "output_type": "stream",
          "name": "stdout",
          "text": [
            "Mounted at /content/gdrive\n",
            "/content/gdrive/MyDrive/Colab Notebooks/code2024/Session08 - 유형별로 실습하는 딥러닝\n"
          ]
        }
      ]
    },
    {
      "cell_type": "markdown",
      "source": [
        "# 모델 불러오기"
      ],
      "metadata": {
        "id": "zeGh-0t-_h8L"
      }
    },
    {
      "cell_type": "code",
      "source": [
        "import pickle\n",
        "from tensorflow.keras.models import load_model\n",
        "import pandas as pd"
      ],
      "metadata": {
        "id": "sXUGxmw5_jn6"
      },
      "execution_count": 2,
      "outputs": []
    },
    {
      "cell_type": "code",
      "source": [
        "with open(\"./models/dlcore_sellout_skku.dump\",\"rb\") as fr:\n",
        "    loadedRef = pickle.load(fr)\n",
        "# 0:feature 1: labels 2: preprocessing\n",
        "# loadedRef"
      ],
      "metadata": {
        "id": "xu7Oj3Tr_mLE"
      },
      "execution_count": 3,
      "outputs": []
    },
    {
      "cell_type": "code",
      "source": [
        "loadedModel = load_model(\"./models/dlcore_sellout_skku_last.h5\")"
      ],
      "metadata": {
        "id": "0nFzorRjAM_C"
      },
      "execution_count": 4,
      "outputs": []
    },
    {
      "cell_type": "code",
      "source": [
        "loadedModel.summary()"
      ],
      "metadata": {
        "colab": {
          "base_uri": "https://localhost:8080/"
        },
        "id": "0UQMPh59_mDT",
        "outputId": "8c83346a-f35a-4301-cd6e-07b24cfe18c2"
      },
      "execution_count": 5,
      "outputs": [
        {
          "output_type": "stream",
          "name": "stdout",
          "text": [
            "Model: \"sequential_2\"\n",
            "_________________________________________________________________\n",
            " Layer (type)                Output Shape              Param #   \n",
            "=================================================================\n",
            " dense_6 (Dense)             (None, 8)                 40        \n",
            "                                                                 \n",
            " dense_7 (Dense)             (None, 8)                 72        \n",
            "                                                                 \n",
            " dense_8 (Dense)             (None, 1)                 9         \n",
            "                                                                 \n",
            "=================================================================\n",
            "Total params: 121 (484.00 Byte)\n",
            "Trainable params: 121 (484.00 Byte)\n",
            "Non-trainable params: 0 (0.00 Byte)\n",
            "_________________________________________________________________\n"
          ]
        }
      ]
    },
    {
      "cell_type": "code",
      "source": [
        "loadedRef"
      ],
      "metadata": {
        "colab": {
          "base_uri": "https://localhost:8080/"
        },
        "id": "zZrwgzTz5dzF",
        "outputId": "73b24242-cc5a-4f80-e48e-2ec1ab4eb12f"
      },
      "execution_count": 8,
      "outputs": [
        {
          "output_type": "execute_result",
          "data": {
            "text/plain": [
              "{'feature': ['PROMOTION_LE', 'HOLIDAY_LE', 'PROMOTION_SC', 'HCLUS_SC'],\n",
              " 'orgfeature': ['PROMOTOIN', 'HOLIDAY', 'PROMOTION', 'HCLUS'],\n",
              " 'label': ['QTY'],\n",
              " 'preprocessing': [LabelEncoder(),\n",
              "  LabelEncoder(),\n",
              "  MinMaxScaler(),\n",
              "  MinMaxScaler()],\n",
              " 'model': <keras.src.engine.sequential.Sequential at 0x7f56ab365e70>}"
            ]
          },
          "metadata": {},
          "execution_count": 8
        }
      ]
    },
    {
      "cell_type": "code",
      "source": [
        "preProcessingFunc = loadedRef[\"preprocessing\"]"
      ],
      "metadata": {
        "id": "4543ROr-5g0f"
      },
      "execution_count": 10,
      "outputs": []
    },
    {
      "cell_type": "code",
      "source": [
        "# 화면입력데이터 변수 할당\n",
        "inPromotion = \"N\"\n",
        "inHoliday = \"N\"\n",
        "inPropercent = 0.0\n",
        "inHclus = 4"
      ],
      "metadata": {
        "id": "btNjhagKDO6t"
      },
      "execution_count": 14,
      "outputs": []
    },
    {
      "cell_type": "code",
      "source": [
        "# 전처리 함수 불러오기\n",
        "ynLabel = preProcessingFunc[0]\n",
        "promotionScaler = preProcessingFunc[2]\n",
        "hclusScaler = preProcessingFunc[3]"
      ],
      "metadata": {
        "id": "HwHASvdQDhLV"
      },
      "execution_count": 15,
      "outputs": []
    },
    {
      "cell_type": "code",
      "source": [
        "# 입력데이터 전처리\n",
        "inPromotionCvt = ynLabel.transform( [inPromotion] )[0]\n",
        "inHolidayCvt = ynLabel.transform( [inHoliday] )[0]\n",
        "inPropercentCvt = promotionScaler.transform( [[inPropercent]] )[0][0]\n",
        "inHclusCvt = hclusScaler.transform( [[inHclus]] )[0][0]"
      ],
      "metadata": {
        "colab": {
          "base_uri": "https://localhost:8080/"
        },
        "id": "IFD9cXMlA7QU",
        "outputId": "523dae6c-4505-4401-a552-7e82c5941eb6"
      },
      "execution_count": 16,
      "outputs": [
        {
          "output_type": "stream",
          "name": "stderr",
          "text": [
            "/usr/local/lib/python3.10/dist-packages/sklearn/base.py:439: UserWarning: X does not have valid feature names, but MinMaxScaler was fitted with feature names\n",
            "  warnings.warn(\n",
            "/usr/local/lib/python3.10/dist-packages/sklearn/base.py:439: UserWarning: X does not have valid feature names, but MinMaxScaler was fitted with feature names\n",
            "  warnings.warn(\n"
          ]
        }
      ]
    },
    {
      "cell_type": "code",
      "source": [
        "# 예측을 위한 데이터셋 생성\n",
        "testData = pd.DataFrame( [[ inPromotionCvt, inHolidayCvt, inPropercentCvt, inHclusCvt ]] )"
      ],
      "metadata": {
        "id": "u3GW5C5lB-5O"
      },
      "execution_count": 17,
      "outputs": []
    },
    {
      "cell_type": "code",
      "source": [
        "# 예측\n",
        "predictValue = loadedModel.predict( testData)[0][0]"
      ],
      "metadata": {
        "colab": {
          "base_uri": "https://localhost:8080/"
        },
        "id": "g1lJrSx5DI4G",
        "outputId": "e1d51022-9838-4bfe-a40a-f7fe3632ddf6"
      },
      "execution_count": 20,
      "outputs": [
        {
          "output_type": "stream",
          "name": "stdout",
          "text": [
            "1/1 [==============================] - 0s 29ms/step\n"
          ]
        }
      ]
    }
  ]
}