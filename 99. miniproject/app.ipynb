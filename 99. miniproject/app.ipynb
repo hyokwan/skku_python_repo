{
  "nbformat": 4,
  "nbformat_minor": 0,
  "metadata": {
    "colab": {
      "provenance": []
    },
    "kernelspec": {
      "name": "python3",
      "display_name": "Python 3"
    },
    "language_info": {
      "name": "python"
    }
  },
  "cells": [
    {
      "cell_type": "code",
      "source": [
        "# !pip install fastapi uvicorn\n",
        "# !pip install  nest-asyncio pyngrok"
      ],
      "metadata": {
        "id": "ul9yLfai7LAv"
      },
      "execution_count": 31,
      "outputs": []
    },
    {
      "cell_type": "code",
      "source": [
        "# from google.colab import drive\n",
        "# drive.mount(\"/content/gdrive\")"
      ],
      "metadata": {
        "id": "N24WJp03-9is"
      },
      "execution_count": 32,
      "outputs": []
    },
    {
      "cell_type": "code",
      "source": [
        "# %cd /content/gdrive/MyDrive/Colab Notebooks/code2024/Session - 미니프로젝트"
      ],
      "metadata": {
        "id": "vrxtyOg7Ws7p"
      },
      "execution_count": 33,
      "outputs": []
    },
    {
      "cell_type": "markdown",
      "source": [
        "# 모델 불러오기"
      ],
      "metadata": {
        "id": "zeGh-0t-_h8L"
      }
    },
    {
      "cell_type": "code",
      "source": [
        "import pickle\n",
        "from tensorflow.keras.models import load_model\n",
        "import pandas as pd"
      ],
      "metadata": {
        "id": "sXUGxmw5_jn6"
      },
      "execution_count": 5,
      "outputs": []
    },
    {
      "cell_type": "code",
      "source": [
        "# 서버 관리용 fastapi 의존 라이브러리\n",
        "import uvicorn\n",
        "\n",
        "# fast api 라이브러리\n",
        "from fastapi import FastAPI\n",
        "\n",
        "# 인터페이스 데이터 관리를 위한 라이브러리\n",
        "from pydantic import BaseModel"
      ],
      "metadata": {
        "id": "_VCHR8Bn7D1x"
      },
      "execution_count": 6,
      "outputs": []
    },
    {
      "cell_type": "code",
      "source": [
        "from fastapi.middleware.cors import CORSMiddleware\n",
        "origins = [\"*\"]\n",
        "\n",
        "app = FastAPI(title=\"ML API\")\n",
        "\n",
        "# CORS 미들웨어 추가\n",
        "app.add_middleware(\n",
        "    CORSMiddleware,\n",
        "    allow_origins=[\"*\"],  # 모든 origin 허용\n",
        "    allow_credentials=True,\n",
        "    allow_methods=[\"GET\", \"POST\", \"PUT\", \"DELETE\"],\n",
        "    allow_headers=[\"*\"],\n",
        ")"
      ],
      "metadata": {
        "id": "I8UU7_4q7ZPY"
      },
      "execution_count": 7,
      "outputs": []
    },
    {
      "cell_type": "code",
      "source": [
        "with open(\"./dlcore_sellout_skku.dump\",\"rb\") as fr:\n",
        "    loadedRef = pickle.load(fr)\n",
        "# 0:feature 1: labels 2: preprocessing\n",
        "# loadedRef"
      ],
      "metadata": {
        "id": "xu7Oj3Tr_mLE"
      },
      "execution_count": 9,
      "outputs": []
    },
    {
      "cell_type": "code",
      "source": [
        "loadedRef"
      ],
      "metadata": {
        "colab": {
          "base_uri": "https://localhost:8080/"
        },
        "id": "3hzLHHEBX4MY",
        "outputId": "e20f1fa6-9e74-4eb9-89c1-d3f415b14177"
      },
      "execution_count": 11,
      "outputs": [
        {
          "output_type": "execute_result",
          "data": {
            "text/plain": [
              "{'feature': ['PROMOTION_LE', 'HOLIDAY_LE', 'PROMOTION_SC', 'HCLUS_SC'],\n",
              " 'orgfeature': ['PROMOTOIN', 'HOLIDAY', 'PROMOTION', 'HCLUS'],\n",
              " 'label': ['QTY'],\n",
              " 'preprocessing': [LabelEncoder(),\n",
              "  LabelEncoder(),\n",
              "  MinMaxScaler(),\n",
              "  MinMaxScaler()],\n",
              " 'model': <keras.src.engine.sequential.Sequential at 0x7aa073b17250>}"
            ]
          },
          "metadata": {},
          "execution_count": 11
        }
      ]
    },
    {
      "cell_type": "code",
      "source": [
        "class InDataset(BaseModel):\n",
        "    inPromotion : str\n",
        "    inHoliday : str\n",
        "    inPropercent : float\n",
        "    inHclus : int"
      ],
      "metadata": {
        "id": "Hom5FV2J7mEn"
      },
      "execution_count": 12,
      "outputs": []
    },
    {
      "cell_type": "code",
      "source": [
        "loadedModel = load_model(\"./dlcore_sellout_skku_last.h5\")"
      ],
      "metadata": {
        "id": "0nFzorRjAM_C"
      },
      "execution_count": 14,
      "outputs": []
    },
    {
      "cell_type": "code",
      "source": [
        "loadedModel.summary()"
      ],
      "metadata": {
        "colab": {
          "base_uri": "https://localhost:8080/"
        },
        "id": "0UQMPh59_mDT",
        "outputId": "9c1f824c-2156-4bb0-f22e-d3387f349556"
      },
      "execution_count": 15,
      "outputs": [
        {
          "output_type": "stream",
          "name": "stdout",
          "text": [
            "Model: \"sequential_2\"\n",
            "_________________________________________________________________\n",
            " Layer (type)                Output Shape              Param #   \n",
            "=================================================================\n",
            " dense_6 (Dense)             (None, 8)                 40        \n",
            "                                                                 \n",
            " dense_7 (Dense)             (None, 8)                 72        \n",
            "                                                                 \n",
            " dense_8 (Dense)             (None, 1)                 9         \n",
            "                                                                 \n",
            "=================================================================\n",
            "Total params: 121 (484.00 Byte)\n",
            "Trainable params: 121 (484.00 Byte)\n",
            "Non-trainable params: 0 (0.00 Byte)\n",
            "_________________________________________________________________\n"
          ]
        }
      ]
    },
    {
      "cell_type": "code",
      "source": [
        "loadedRef"
      ],
      "metadata": {
        "colab": {
          "base_uri": "https://localhost:8080/"
        },
        "id": "zZrwgzTz5dzF",
        "outputId": "255d41a8-7f90-4e4d-d884-bdc75b184e0e"
      },
      "execution_count": 16,
      "outputs": [
        {
          "output_type": "execute_result",
          "data": {
            "text/plain": [
              "{'feature': ['PROMOTION_LE', 'HOLIDAY_LE', 'PROMOTION_SC', 'HCLUS_SC'],\n",
              " 'orgfeature': ['PROMOTOIN', 'HOLIDAY', 'PROMOTION', 'HCLUS'],\n",
              " 'label': ['QTY'],\n",
              " 'preprocessing': [LabelEncoder(),\n",
              "  LabelEncoder(),\n",
              "  MinMaxScaler(),\n",
              "  MinMaxScaler()],\n",
              " 'model': <keras.src.engine.sequential.Sequential at 0x7aa073b17250>}"
            ]
          },
          "metadata": {},
          "execution_count": 16
        }
      ]
    },
    {
      "cell_type": "code",
      "source": [
        "preProcessingFunc = loadedRef[\"preprocessing\"]"
      ],
      "metadata": {
        "id": "4543ROr-5g0f"
      },
      "execution_count": 17,
      "outputs": []
    },
    {
      "cell_type": "code",
      "source": [
        "# 전처리 함수 불러오기\n",
        "ynLabel = preProcessingFunc[0]\n",
        "promotionScaler = preProcessingFunc[2]\n",
        "hclusScaler = preProcessingFunc[3]"
      ],
      "metadata": {
        "id": "thpNnv5879eN"
      },
      "execution_count": 26,
      "outputs": []
    },
    {
      "cell_type": "code",
      "source": [
        "@app.post(\"/predictdl\", status_code=200)\n",
        "async def predictDl(x:InDataset):\n",
        "    print(x)\n",
        "    # 화면입력데이터 변수 할당\n",
        "    inPromotion = x.inPromotion\n",
        "    inHoliday = x.inHoliday\n",
        "    inPropercent =x.inPropercent\n",
        "    inHclus = x.inHclus\n",
        "    print(\"step1\")\n",
        "    # 입력데이터 전처리\n",
        "    inPromotionCvt = ynLabel.transform( [inPromotion] )[0]\n",
        "    inHolidayCvt = ynLabel.transform( [inHoliday] )[0]\n",
        "    inPropercentCvt = promotionScaler.transform( [[inPropercent]] )[0][0]\n",
        "    inHclusCvt = hclusScaler.transform( [[inHclus]] )[0][0]\n",
        "    print(\"step2\")\n",
        "    # 예측을 위한 데이터셋 생성\n",
        "    testData = pd.DataFrame( [[ inPromotionCvt, inHolidayCvt, inPropercentCvt, inHclusCvt ]] )\n",
        "    # 예측\n",
        "    print(testData)\n",
        "    predictValue =  int(loadedModel.predict( testData)[0][0])\n",
        "    print(predictValue)\n",
        "    result = {\"prediction\":predictValue}\n",
        "    return result"
      ],
      "metadata": {
        "id": "aYb1P33A8DqB"
      },
      "execution_count": 27,
      "outputs": []
    },
    {
      "cell_type": "code",
      "source": [
        "# # print(x)\n",
        "# # 화면입력데이터 변수 할당\n",
        "# # inPromotion = x.inPromotion\n",
        "# # inHoliday = x.inHoliday\n",
        "# # inPropercent =x.inPropercent\n",
        "# # inHclus = x.inHclus\n",
        "# inPromotion = \"N\"\n",
        "# inHoliday = \"N\"\n",
        "# inPropercent = 0.0\n",
        "# inHclus = 1\n",
        "# print(\"step1\")\n",
        "# # 입력데이터 전처리\n",
        "# inPromotionCvt = ynLabel.transform( [inPromotion] )[0]\n",
        "# inHolidayCvt = ynLabel.transform( [inHoliday] )[0]\n",
        "# inPropercentCvt = promotionScaler.transform( [[inPropercent]] )[0][0]\n",
        "# inHclusCvt = hclusScaler.transform( [[inHclus]] )[0][0]\n",
        "# print(\"step2\")\n",
        "# # 예측을 위한 데이터셋 생성\n",
        "# testData = pd.DataFrame( [[ inPromotionCvt, inHolidayCvt, inPropercentCvt, inHclusCvt ]] )\n",
        "# # 예측\n",
        "# print(testData)\n",
        "# predictValue =  int(loadedModel.predict( testData)[0][0])\n",
        "# print(predictValue)\n",
        "# result = {\"prediction\":predictValue}\n",
        "# result"
      ],
      "metadata": {
        "colab": {
          "base_uri": "https://localhost:8080/"
        },
        "id": "nUg3ptHrZbfE",
        "outputId": "6c1948e2-24d4-47f0-bfc9-91ccdd556ef5"
      },
      "execution_count": 25,
      "outputs": [
        {
          "output_type": "stream",
          "name": "stdout",
          "text": [
            "step1\n",
            "step2\n",
            "   0  1    2     3\n",
            "0  0  0  0.0  0.25\n",
            "1/1 [==============================] - 0s 21ms/step\n",
            "385\n"
          ]
        },
        {
          "output_type": "stream",
          "name": "stderr",
          "text": [
            "/usr/local/lib/python3.10/dist-packages/sklearn/base.py:439: UserWarning: X does not have valid feature names, but MinMaxScaler was fitted with feature names\n",
            "  warnings.warn(\n",
            "/usr/local/lib/python3.10/dist-packages/sklearn/base.py:439: UserWarning: X does not have valid feature names, but MinMaxScaler was fitted with feature names\n",
            "  warnings.warn(\n"
          ]
        },
        {
          "output_type": "execute_result",
          "data": {
            "text/plain": [
              "{'prediction': 385}"
            ]
          },
          "metadata": {},
          "execution_count": 25
        }
      ]
    },
    {
      "cell_type": "code",
      "source": [
        "@app.get(\"/\")\n",
        "async def root():\n",
        "    return {\"message\":\"server is running\"}"
      ],
      "metadata": {
        "id": "IkDGIXix8y_X"
      },
      "execution_count": 28,
      "outputs": []
    },
    {
      "cell_type": "code",
      "source": [
        "# import nest_asyncio\n",
        "# from pyngrok import ngrok\n",
        "# import uvicorn\n",
        "\n",
        "# auth_token = \"2hN39uPNEVwsHR4UMPoPQpGTI21_3eQv6mRq5YK8zjdv9Es5v\"\n",
        "# ngrok.set_auth_token(auth_token)\n",
        "# ngrokTunnel = ngrok.connect(8000)\n",
        "# print(\"공용 URL\", ngrokTunnel.public_url)\n",
        "# nest_asyncio.apply()\n",
        "# uvicorn.run(app, port=8000)"
      ],
      "metadata": {
        "id": "gja0Wkbd83qx"
      },
      "execution_count": 30,
      "outputs": []
    },
    {
      "cell_type": "code",
      "source": [
        "import uvicorn\n",
        "if __name__ == \"__main__\":\n",
        "    uvicorn.run(\"app:app\", host=\"0.0.0.0\", port=9999, log_level=\"debug\",\n",
        "                proxy_headers=True, reload=True)"
      ],
      "metadata": {
        "id": "FzwulcFK9BYM"
      },
      "execution_count": null,
      "outputs": []
    }
  ]
}