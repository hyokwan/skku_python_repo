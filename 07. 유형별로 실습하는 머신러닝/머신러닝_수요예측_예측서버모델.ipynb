{
  "nbformat": 4,
  "nbformat_minor": 0,
  "metadata": {
    "colab": {
      "provenance": []
    },
    "kernelspec": {
      "name": "python3",
      "display_name": "Python 3"
    },
    "language_info": {
      "name": "python"
    }
  },
  "cells": [
    {
      "cell_type": "code",
      "execution_count": 2,
      "metadata": {
        "id": "WaUqISFHj2OF"
      },
      "outputs": [],
      "source": [
        "import pickle"
      ]
    },
    {
      "cell_type": "code",
      "source": [
        "# 행과열을 다루는 라이브러리\n",
        "import pandas as pd\n",
        "import numpy as np"
      ],
      "metadata": {
        "id": "CgHMww31kIIy"
      },
      "execution_count": 3,
      "outputs": []
    },
    {
      "cell_type": "code",
      "source": [
        "# !pip install uvicorn\n",
        "# !pip install fastapi"
      ],
      "metadata": {
        "id": "7ERI6q00p61H"
      },
      "execution_count": 9,
      "outputs": []
    },
    {
      "cell_type": "code",
      "source": [
        "import uvicorn"
      ],
      "metadata": {
        "id": "D8FYrpKHpsN2"
      },
      "execution_count": 6,
      "outputs": []
    },
    {
      "cell_type": "code",
      "source": [
        "from fastapi import FastAPI\n",
        "# 인터페이스 데이터 관리를 위한 라이브러리\n",
        "from pydantic import BaseModel"
      ],
      "metadata": {
        "id": "LWr0cvnFpug3"
      },
      "execution_count": 12,
      "outputs": []
    },
    {
      "cell_type": "code",
      "source": [
        "from fastapi.middleware.cors import CORSMiddleware\n",
        "origins = [\"*\"]\n",
        "\n",
        "app = FastAPI(title=\"ML API\")\n",
        "\n",
        "# CORS 미들웨어 추가\n",
        "app.add_middleware(\n",
        "    CORSMiddleware,\n",
        "    allow_origins=[\"*\"],  # 모든 origin 허용\n",
        "    allow_credentials=True,\n",
        "    allow_methods=[\"GET\", \"POST\", \"PUT\", \"DELETE\"],\n",
        "    allow_headers=[\"*\"],\n",
        ")"
      ],
      "metadata": {
        "id": "ML4AuwChrDfo"
      },
      "execution_count": 13,
      "outputs": []
    },
    {
      "cell_type": "code",
      "source": [
        "# ★ 변경포인트 본인의 Feature로 변경\n",
        "class InDataset(BaseModel):\n",
        "    inHclus : int\n",
        "    inPropercent : float\n",
        "    inPromotion : str\n",
        "    inHoliday : str"
      ],
      "metadata": {
        "id": "H0kN-4grsNxe"
      },
      "execution_count": 18,
      "outputs": []
    },
    {
      "cell_type": "markdown",
      "source": [
        "### 1. 학습결과 불러오기"
      ],
      "metadata": {
        "id": "-FhkueYhkLu3"
      }
    },
    {
      "cell_type": "code",
      "source": [
        "with open(\"mlcore_skku.dump\", \"rb\") as fr:\n",
        "    loadedDump = pickle.load(fr)"
      ],
      "metadata": {
        "id": "YssdnjYPkzjn"
      },
      "execution_count": 14,
      "outputs": []
    },
    {
      "cell_type": "code",
      "source": [
        "features = loadedDump[\"feature\"]\n",
        "label=loadedDump[\"label\"]\n",
        "preProcessing = loadedDump[\"preprocessing\"]\n",
        "loadedModel = loadedDump[\"model\"]"
      ],
      "metadata": {
        "id": "If9Fw37ElKP_"
      },
      "execution_count": 15,
      "outputs": []
    },
    {
      "cell_type": "markdown",
      "source": [
        "### 2. 예측 시뮬레이션"
      ],
      "metadata": {
        "id": "qSJVfSJYkuHz"
      }
    },
    {
      "cell_type": "code",
      "source": [
        "def hkfunc(inValue:float):\n",
        "    \"\"\"\n",
        "    define: 함수다..이런이런..\n",
        "    \"\"\"\n",
        "    # inValue = 5.7\n",
        "    result = int(inValue)\n",
        "    return result"
      ],
      "metadata": {
        "id": "gRSTlQ1qtgTP"
      },
      "execution_count": 24,
      "outputs": []
    },
    {
      "cell_type": "code",
      "source": [
        "hkfunc("
      ],
      "metadata": {
        "id": "QRivrFVmt0-B"
      },
      "execution_count": null,
      "outputs": []
    },
    {
      "cell_type": "code",
      "source": [
        "@app.post(\"/predict\", status_code=200)\n",
        "async def predictSellout(x:InDataset):\n",
        "    ### 화면 입력값\n",
        "    inHclus = x.inHclus\n",
        "    inPropercent = x.inPropercent\n",
        "    inHoliday = x.inHoliday\n",
        "    inPromotion = x.inPromotion\n",
        "    ### 기존 훈련과 동일한 전처리과정 수행\n",
        "    ynLabel = preProcessing[2]\n",
        "    inHolidayConv = ynLabel.transform( [inHoliday] )[0]\n",
        "    ynLabel = preProcessing[3]\n",
        "    inPromotionConv = ynLabel.transform( [inPromotion] )[0]\n",
        "    ### features 순서대로 데이터 생성 및 예측\n",
        "    inDf = pd.DataFrame( [[  inHclus, inPropercent, inHolidayConv, inPromotionConv   ]])\n",
        "    predictValue = loadedModel.predict(inDf)[0]\n",
        "    result = { \"prediction\": predictValue }\n",
        "    return result"
      ],
      "metadata": {
        "id": "TjiUtVcyl16f"
      },
      "execution_count": 25,
      "outputs": []
    },
    {
      "cell_type": "code",
      "source": [],
      "metadata": {
        "id": "bj7Li9vGroXb"
      },
      "execution_count": null,
      "outputs": []
    }
  ]
}